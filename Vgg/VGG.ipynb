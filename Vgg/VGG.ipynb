{
 "cells": [
  {
   "cell_type": "markdown",
   "metadata": {},
   "source": [
    "# VGG "
   ]
  },
  {
   "cell_type": "markdown",
   "metadata": {},
   "source": [
    "## Stack of 3 x 3 conv layers\n",
    "* 用多个 `3 x 3` Conv 替换 kernel 较大的 Conv 来减少参数计算\n",
    "*  [Receptive Field](https://medium.com/mlreview/a-guide-to-receptive-field-arithmetic-for-convolutional-neural-networks-e0f514068807)\n",
    "\n",
    "## 单尺度测试结果对比\n",
    "* `LRN` 对网络性能没有帮助\n",
    "* `2 x 2` Max pooling 可以获得更多的信息\n",
    "* `Multiple scale traning` 可以提高网络精度\n",
    "* Deeper > Shallow"
   ]
  },
  {
   "cell_type": "markdown",
   "metadata": {},
   "source": [
    "|Layer|Receptive Field|\n",
    "|---|---|\n",
    "|**Conv3-64**|1+(3-1) = 3|\n",
    "|**Conv3-64**|3+(3-1) * 1 = 5|\n",
    "|Max pool|5+(2-1) * 1 * 1 = 6|\n",
    "|**Conv3-128**|6+(3-1) * 1 * 1 * 2 = 10|\n",
    "|**Conv3-128**|10+(3-1) * 1 * 1 * 2 * 1 = 14|\n",
    "|Max pool|14+(2-1) * 1 * 1 * 2 * 1 * 1= 16|\n",
    "|**Conv3-256**|16+(3-1) * 1 * 1 * 2 * 1 * 1 * 2 = 24|\n",
    "|**Conv3-256**|24+(3-1) * 1 * 1 * 2 * 1 * 1 * 2 * 1 = 32|\n",
    "|**Conv3-128**|32+(3-1) * 1 * 1 * 2 * 1 * 1 * 2 * 1 * 1= 40|\n",
    "|Max pool|40+(2-1) * 1 * 1 * 2 * 1 * 1 * 2 * 1 * 1 * 1 = 44| \n",
    "|**Conv3-128**|44+(3-1) * 1 * 1 * 2 * 1 * 1 * 2 * 1 * 1 * 1 * 2 = 60| \n",
    "|**Conv3-128**|60+(3-1) * 1 * 1 * 2 * 1 * 1 * 2 * 1 * 1 * 1 * 2 * 1 =76|\n",
    "|**Conv3-128**|76+(3-1) * 1 * 1 * 2 * 1 * 1 * 2 * 1 * 1 * 1 * 2 * 1 * 1 = 92|\n",
    "|Max pool|92+(2-1) * 1 * 1 * 2 * 1 * 1 * 2 * 1 * 1 * 1 * 2 * 1* 1 * 1 = 100|\n",
    "|**Conv3-128**|100+(3-1) * 1 * 1 * 2 * 1 * 1 * 2 * 1 * 1 * 1 * 2 * 1* 1 * 1 * 2 = 132|\n",
    "|**Conv3-128**|132+(3-1) * 1 * 1 * 2 * 1 * 1 * 2 * 1 * 1 * 1 * 2 * 1* 1 * 1 * 2 * 1 = 164|\n",
    "|**Conv3-128**|164+(3-1) * 1 * 1 * 2 * 1 * 1 * 2 * 1 * 1 * 1 * 2 * 1* 1 * 1 * 2 * 1 * 1= 196|\n",
    "|Max pool|196+(2-1) * 1 * 1 * 2 * 1 * 1 * 2 * 1 * 1 * 1 * 2 * 1* 1 * 1 * 2 * 1 * 1 * 1 = 212|"
   ]
  },
  {
   "cell_type": "code",
   "execution_count": 1,
   "metadata": {},
   "outputs": [],
   "source": [
    "import torch\n",
    "from torchvision import models\n",
    "from tensorboardX import SummaryWriter\n",
    "vgg16 = models.vgg16(pretrained=False)"
   ]
  },
  {
   "cell_type": "code",
   "execution_count": 5,
   "metadata": {},
   "outputs": [],
   "source": [
    "dummy_input = torch.rand(1, 3, 224, 224)\n",
    "with SummaryWriter('D:/AI/Workspace/Paper CV/Vgg/tensorboard/', comment='VGG16') as writer:\n",
    "     writer.add_graph(vgg16, (dummy_input, ))    "
   ]
  }
 ],
 "metadata": {
  "kernelspec": {
   "display_name": "Python [conda env:CV-ND] *",
   "language": "python",
   "name": "conda-env-CV-ND-py"
  },
  "language_info": {
   "codemirror_mode": {
    "name": "ipython",
    "version": 3
   },
   "file_extension": ".py",
   "mimetype": "text/x-python",
   "name": "python",
   "nbconvert_exporter": "python",
   "pygments_lexer": "ipython3",
   "version": "3.7.3"
  }
 },
 "nbformat": 4,
 "nbformat_minor": 2
}

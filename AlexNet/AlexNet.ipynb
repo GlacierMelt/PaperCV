{
 "cells": [
  {
   "cell_type": "markdown",
   "metadata": {},
   "source": [
    "##### AlexNet \n",
    "---\n",
    "`省略了FC的偏差项计算`\n",
    "\n",
    "| Layer | Input Size| Output Size | Parameters | Forward Computation | Receptive Field |\n",
    "|---|---|---|---|---|---|\n",
    "|**Conv1**|3 * 227 * 227|96 * 55 * 55|`(11 * 11 * 3 + 1) * 96=34944`|34944 * 55 * 55| 1+(3-1)=3|\n",
    "|Max Pooling|96 * 55 * 55|96 * 27 * 27| 0 | 0 | 3+(2-1) * 4 = 7 |\n",
    "|**Conv2**|96 * 27 * 27| 256 * 27 * 27|`(5 * 5 * 96 + 1) * 256=614656`|614656 * 27 * 27| 7+(5-1) * 4 * 2 = 39 |\n",
    "|Max Pooling|256 * 27 * 27|256 * 13 * 13| 0 | 0 | 39+(2-1) * 4 * 2 * 1 = 47 |\n",
    "|**Conv3**|256 * 13 * 13|384 * 13 * 13|`(3 * 3 * 256 + 1) * 384=885120`|885120 * 13 * 13| 47+(3-1) * 4 * 2 * 1 * 2 = 79 |\n",
    "|**Conv4**|384 * 13 * 13|384 * 13 * 13|`(3 * 3 * 384 + 1) * 384=1327488`|1327488 * 13 * 13| 79 + (3-1) * 4 * 2 * 1 * 2 * 1 = 111 |\n",
    "|**Conv5**|384 * 13 * 13|256 * 13 * 13|`(3 * 3 * 384 + 1) * 256=884992`|884992 * 13 * 13| 111+(3-1) * 4 * 2 * 1 * 2 * 1 * 1 = 143 |\n",
    "|Max Pooling|256 * 13 * 13|256 * 6 * 6| 0 | 0 | 143+(2-1)* 4 * 2 * 1 * 2 * 1 * 1 * 1 = 159 |\n",
    "|**FC6**|1 * 9216|1 * 4096|`256 * 6 * 6 * 4096=37748736`|37748736| 0 |\n",
    "|**FC7**|1 * 4096|1 * 4096|`4096 * 4096=16777216`|16777216| 0 |\n",
    "|**FC**|1 * 4096|1 * 1000|`4096 * 1000=4096000`|4096000| 0 |\n",
    "\n",
    "## 防止过拟合\n",
    "---\n",
    "### Dropout\n",
    "- 使用dropout而不是正则化来处理过度拟合，同时训练时间加倍。\n",
    "- 在训练期间，每个神经元都有可能不参与前馈传递并参与反向传播。因此，每个神经元都有更大的机会被训练，而不是非常依赖于一些非常“强壮”的神经元。\n",
    "\n",
    "### Data Augmentation\n",
    "#### First :  `Image translation and horizontal reflection`\n",
    "#### Second:  ` Altering the intensity`\n",
    "- 通过增加数据增加训练集的大小，Top-1错误率降低了1％以上。\n",
    "- 增强model泛化性。"
   ]
  }
 ],
 "metadata": {
  "kernelspec": {
   "display_name": "Python [conda env:CV-ND] *",
   "language": "python",
   "name": "conda-env-CV-ND-py"
  },
  "language_info": {
   "codemirror_mode": {
    "name": "ipython",
    "version": 3
   },
   "file_extension": ".py",
   "mimetype": "text/x-python",
   "name": "python",
   "nbconvert_exporter": "python",
   "pygments_lexer": "ipython3",
   "version": "3.7.3"
  }
 },
 "nbformat": 4,
 "nbformat_minor": 2
}

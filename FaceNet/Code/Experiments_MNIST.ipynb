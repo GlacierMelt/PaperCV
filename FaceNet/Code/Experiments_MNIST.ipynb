{
 "cells": [
  {
   "cell_type": "code",
   "execution_count": 1,
   "metadata": {
    "colab": {
     "autoexec": {
      "startup": false,
      "wait_interval": 0
     }
    },
    "colab_type": "code",
    "id": "sx9e_pXlCuti"
   },
   "outputs": [],
   "source": [
    "%load_ext autoreload\n",
    "%autoreload 2"
   ]
  },
  {
   "cell_type": "markdown",
   "metadata": {
    "colab_type": "text",
    "id": "UMMut8UVCutt"
   },
   "source": [
    "# 实验设计\n",
    "\n",
    "我们将用MNIST数据集来做一个关于不同损失函数，不同采样方法的小实验，我们采用的Embedding Feature只有*二维*，虽然这在实际应用中往往欠妥，但是二维特征可以为我们的实验带来直观的可视化感受。\n",
    "\n",
    "在所有的实验中，我们保持网络的尺寸不变(32 conv 5x5 -> PReLU -> MaxPool 2x2 -> 64 conv 5x5 -> PReLU -> MaxPool 2x2 -> Dense 256 -> PReLU -> Dense 256 -> PReLU -> Dense 2)，并且也不进行任何的调参 "
   ]
  },
  {
   "cell_type": "markdown",
   "metadata": {
    "colab_type": "text",
    "id": "BcmGBqXeCutw"
   },
   "source": [
    "# Prepare dataset\n",
    "We'll be working on MNIST dataset"
   ]
  },
  {
   "cell_type": "code",
   "execution_count": 2,
   "metadata": {
    "colab": {
     "autoexec": {
      "startup": false,
      "wait_interval": 0
     }
    },
    "colab_type": "code",
    "id": "AQSHPH9P0BNx"
   },
   "outputs": [],
   "source": [
    "from torchvision.datasets import MNIST\n",
    "from torchvision import transforms\n",
    "\n",
    "mean, std = 0.1307, 0.3081\n",
    "\n",
    "train_dataset = MNIST('../data/MNIST', train=True, download=True,\n",
    "                             transform=transforms.Compose([\n",
    "                                 transforms.ToTensor(),\n",
    "                                 transforms.Normalize((mean,), (std,))\n",
    "                             ]))\n",
    "test_dataset = MNIST('../data/MNIST', train=False, download=True,\n",
    "                            transform=transforms.Compose([\n",
    "                                transforms.ToTensor(),\n",
    "                                transforms.Normalize((mean,), (std,))\n",
    "                            ]))\n",
    "n_classes = 10"
   ]
  },
  {
   "cell_type": "markdown",
   "metadata": {
    "colab_type": "text",
    "id": "TcZTFRnjCut3"
   },
   "source": [
    "## Common setup"
   ]
  },
  {
   "cell_type": "code",
   "execution_count": 3,
   "metadata": {
    "colab": {
     "autoexec": {
      "startup": false,
      "wait_interval": 0
     }
    },
    "colab_type": "code",
    "id": "Dz2xh66UCut5"
   },
   "outputs": [],
   "source": [
    "import torch\n",
    "from torch.optim import lr_scheduler\n",
    "import torch.optim as optim\n",
    "from torch.autograd import Variable\n",
    "\n",
    "from trainer import fit\n",
    "import numpy as np\n",
    "cuda = torch.cuda.is_available()\n",
    "\n",
    "%matplotlib inline\n",
    "import matplotlib\n",
    "import matplotlib.pyplot as plt\n",
    "\n",
    "mnist_classes = ['0', '1', '2', '3', '4', '5', '6', '7', '8', '9']\n",
    "colors = ['#1f77b4', '#ff7f0e', '#2ca02c', '#d62728',\n",
    "              '#9467bd', '#8c564b', '#e377c2', '#7f7f7f',\n",
    "              '#bcbd22', '#17becf']\n",
    "\n",
    "def plot_embeddings(embeddings, targets, xlim=None, ylim=None):\n",
    "    plt.figure(figsize=(10,10))\n",
    "    for i in range(10):\n",
    "        inds = np.where(targets==i)[0]\n",
    "        plt.scatter(embeddings[inds,0], embeddings[inds,1], alpha=0.5, color=colors[i])\n",
    "    if xlim:\n",
    "        plt.xlim(xlim[0], xlim[1])\n",
    "    if ylim:\n",
    "        plt.ylim(ylim[0], ylim[1])\n",
    "    plt.legend(mnist_classes)\n",
    "\n",
    "def extract_embeddings(dataloader, model):\n",
    "    with torch.no_grad():\n",
    "        model.eval()\n",
    "        embeddings = np.zeros((len(dataloader.dataset), 2))\n",
    "        labels = np.zeros(len(dataloader.dataset))\n",
    "        k = 0\n",
    "        for images, target in dataloader:\n",
    "            if cuda:\n",
    "                images = images.cuda()\n",
    "            embeddings[k:k+len(images)] = model.get_embedding(images).data.cpu().numpy()\n",
    "            labels[k:k+len(images)] = target.numpy()\n",
    "            k += len(images)\n",
    "    return embeddings, labels"
   ]
  },
  {
   "cell_type": "markdown",
   "metadata": {
    "colab_type": "text",
    "id": "75moY8AyCut_"
   },
   "source": [
    "# Baseline: Classification with softmax\n",
    "We'll train the model for classification and use outputs of penultimate layer as embeddings"
   ]
  },
  {
   "cell_type": "code",
   "execution_count": 4,
   "metadata": {
    "colab": {
     "autoexec": {
      "startup": false,
      "wait_interval": 0
     }
    },
    "colab_type": "code",
    "id": "95Q40yq0CuuB"
   },
   "outputs": [],
   "source": [
    "# Set up data loaders\n",
    "batch_size = 256\n",
    "kwargs = {'num_workers': 1, 'pin_memory': True} if cuda else {}\n",
    "train_loader = torch.utils.data.DataLoader(train_dataset, batch_size=batch_size, shuffle=True, **kwargs)\n",
    "test_loader = torch.utils.data.DataLoader(test_dataset, batch_size=batch_size, shuffle=False, **kwargs)\n",
    "\n",
    "# Set up the network and training parameters\n",
    "from networks import EmbeddingNet, ClassificationNet\n",
    "from metrics import AccumulatedAccuracyMetric\n",
    "\n",
    "embedding_net = EmbeddingNet()\n",
    "model = ClassificationNet(embedding_net, n_classes=n_classes)\n",
    "if cuda:\n",
    "    model.cuda()\n",
    "loss_fn = torch.nn.NLLLoss()\n",
    "lr = 1e-2\n",
    "optimizer = optim.Adam(model.parameters(), lr=lr)\n",
    "scheduler = lr_scheduler.StepLR(optimizer, 8, gamma=0.1, last_epoch=-1)\n",
    "n_epochs = 20\n",
    "log_interval = 50"
   ]
  },
  {
   "cell_type": "code",
   "execution_count": 5,
   "metadata": {
    "colab": {
     "autoexec": {
      "startup": false,
      "wait_interval": 0
     },
     "base_uri": "https://localhost:8080/",
     "height": 2397
    },
    "colab_type": "code",
    "id": "De3Wt6CCCuuG",
    "outputId": "717714e8-e267-4ea6-f832-5d186fee6eb8"
   },
   "outputs": [
    {
     "name": "stdout",
     "output_type": "stream",
     "text": [
      "Train: [0/60000 (0%)]\tLoss: 2.345809\tAccuracy: 9.375\n",
      "Train: [12800/60000 (21%)]\tLoss: 2.830935\tAccuracy: 13.166360294117647\n",
      "Train: [25600/60000 (43%)]\tLoss: 1.554678\tAccuracy: 25.645884900990097\n",
      "Train: [38400/60000 (64%)]\tLoss: 0.868793\tAccuracy: 40.72588990066225\n",
      "Train: [51200/60000 (85%)]\tLoss: 0.521363\tAccuracy: 52.52643034825871\n",
      "Epoch: 1/20. Train set: Average loss: 1.2944\tAccuracy: 58.275\n",
      "Epoch: 1/20. Validation set: Average loss: 0.3316\tAccuracy: 93.72\n",
      "Train: [0/60000 (0%)]\tLoss: 0.499486\tAccuracy: 92.578125\n",
      "Train: [12800/60000 (21%)]\tLoss: 0.367083\tAccuracy: 92.67003676470588\n",
      "Train: [25600/60000 (43%)]\tLoss: 0.278063\tAccuracy: 93.68425123762377\n",
      "Train: [38400/60000 (64%)]\tLoss: 0.237062\tAccuracy: 94.3501655629139\n",
      "Train: [51200/60000 (85%)]\tLoss: 0.234311\tAccuracy: 94.65951492537313\n",
      "Epoch: 2/20. Train set: Average loss: 0.2711\tAccuracy: 94.84166666666667\n",
      "Epoch: 2/20. Validation set: Average loss: 0.1548\tAccuracy: 97.31\n",
      "Train: [0/60000 (0%)]\tLoss: 0.196208\tAccuracy: 97.65625\n",
      "Train: [12800/60000 (21%)]\tLoss: 0.137392\tAccuracy: 97.34987745098039\n",
      "Train: [25600/60000 (43%)]\tLoss: 0.188209\tAccuracy: 96.95235148514851\n",
      "Train: [38400/60000 (64%)]\tLoss: 0.151417\tAccuracy: 97.08195364238411\n",
      "Train: [51200/60000 (85%)]\tLoss: 0.134556\tAccuracy: 97.12375621890547\n",
      "Epoch: 3/20. Train set: Average loss: 0.1569\tAccuracy: 97.12\n",
      "Epoch: 3/20. Validation set: Average loss: 0.1502\tAccuracy: 96.82\n",
      "Train: [0/60000 (0%)]\tLoss: 0.161219\tAccuracy: 94.921875\n",
      "Train: [12800/60000 (21%)]\tLoss: 0.133120\tAccuracy: 97.61029411764706\n",
      "Train: [25600/60000 (43%)]\tLoss: 0.112456\tAccuracy: 97.74133663366337\n",
      "Train: [38400/60000 (64%)]\tLoss: 0.098606\tAccuracy: 97.90718129139073\n",
      "Train: [51200/60000 (85%)]\tLoss: 0.114996\tAccuracy: 97.91083644278606\n",
      "Epoch: 4/20. Train set: Average loss: 0.1121\tAccuracy: 97.92833333333333\n",
      "Epoch: 4/20. Validation set: Average loss: 0.1395\tAccuracy: 97.73\n",
      "Train: [0/60000 (0%)]\tLoss: 0.112168\tAccuracy: 98.4375\n",
      "Train: [12800/60000 (21%)]\tLoss: 0.083143\tAccuracy: 98.35324754901961\n",
      "Train: [25600/60000 (43%)]\tLoss: 0.101001\tAccuracy: 98.23638613861387\n",
      "Train: [38400/60000 (64%)]\tLoss: 0.107480\tAccuracy: 98.17363410596026\n",
      "Train: [51200/60000 (85%)]\tLoss: 0.097442\tAccuracy: 98.17319651741293\n",
      "Epoch: 5/20. Train set: Average loss: 0.0971\tAccuracy: 98.2\n",
      "Epoch: 5/20. Validation set: Average loss: 0.1543\tAccuracy: 97.62\n",
      "Train: [0/60000 (0%)]\tLoss: 0.121028\tAccuracy: 98.046875\n",
      "Train: [12800/60000 (21%)]\tLoss: 0.079176\tAccuracy: 98.4375\n",
      "Train: [25600/60000 (43%)]\tLoss: 0.069596\tAccuracy: 98.50711633663366\n",
      "Train: [38400/60000 (64%)]\tLoss: 0.082146\tAccuracy: 98.48406456953643\n",
      "Train: [51200/60000 (85%)]\tLoss: 0.087490\tAccuracy: 98.47053793532338\n",
      "Epoch: 6/20. Train set: Average loss: 0.0877\tAccuracy: 98.37666666666667\n",
      "Epoch: 6/20. Validation set: Average loss: 0.1303\tAccuracy: 97.71\n",
      "Train: [0/60000 (0%)]\tLoss: 0.047407\tAccuracy: 98.828125\n",
      "Train: [12800/60000 (21%)]\tLoss: 0.086895\tAccuracy: 98.30729166666667\n",
      "Train: [25600/60000 (43%)]\tLoss: 0.093685\tAccuracy: 98.23638613861387\n",
      "Train: [38400/60000 (64%)]\tLoss: 0.075096\tAccuracy: 98.32626241721854\n",
      "Train: [51200/60000 (85%)]\tLoss: 0.077101\tAccuracy: 98.35199004975124\n",
      "Epoch: 7/20. Train set: Average loss: 0.0840\tAccuracy: 98.38166666666666\n",
      "Epoch: 7/20. Validation set: Average loss: 0.1324\tAccuracy: 97.38\n",
      "Train: [0/60000 (0%)]\tLoss: 0.130933\tAccuracy: 97.265625\n",
      "Train: [12800/60000 (21%)]\tLoss: 0.058213\tAccuracy: 98.82046568627452\n",
      "Train: [25600/60000 (43%)]\tLoss: 0.041533\tAccuracy: 99.04857673267327\n",
      "Train: [38400/60000 (64%)]\tLoss: 0.032164\tAccuracy: 99.17735927152317\n",
      "Train: [51200/60000 (85%)]\tLoss: 0.032272\tAccuracy: 99.2323538557214\n",
      "Epoch: 8/20. Train set: Average loss: 0.0396\tAccuracy: 99.245\n",
      "Epoch: 8/20. Validation set: Average loss: 0.0713\tAccuracy: 98.86\n",
      "Train: [0/60000 (0%)]\tLoss: 0.011142\tAccuracy: 100.0\n",
      "Train: [12800/60000 (21%)]\tLoss: 0.029181\tAccuracy: 99.44087009803921\n",
      "Train: [25600/60000 (43%)]\tLoss: 0.022289\tAccuracy: 99.50881806930693\n",
      "Train: [38400/60000 (64%)]\tLoss: 0.025509\tAccuracy: 99.51883278145695\n",
      "Train: [51200/60000 (85%)]\tLoss: 0.018932\tAccuracy: 99.53552549751244\n",
      "Epoch: 9/20. Train set: Average loss: 0.0233\tAccuracy: 99.54333333333334\n",
      "Epoch: 9/20. Validation set: Average loss: 0.0769\tAccuracy: 98.97\n",
      "Train: [0/60000 (0%)]\tLoss: 0.026802\tAccuracy: 99.21875\n",
      "Train: [12800/60000 (21%)]\tLoss: 0.018933\tAccuracy: 99.609375\n",
      "Train: [25600/60000 (43%)]\tLoss: 0.016261\tAccuracy: 99.65578589108911\n",
      "Train: [38400/60000 (64%)]\tLoss: 0.018380\tAccuracy: 99.66628725165563\n",
      "Train: [51200/60000 (85%)]\tLoss: 0.017771\tAccuracy: 99.65407338308458\n",
      "Epoch: 10/20. Train set: Average loss: 0.0182\tAccuracy: 99.66\n",
      "Epoch: 10/20. Validation set: Average loss: 0.0822\tAccuracy: 98.89\n",
      "Train: [0/60000 (0%)]\tLoss: 0.007542\tAccuracy: 100.0\n",
      "Train: [12800/60000 (21%)]\tLoss: 0.014396\tAccuracy: 99.72426470588235\n",
      "Train: [25600/60000 (43%)]\tLoss: 0.012594\tAccuracy: 99.75247524752476\n",
      "Train: [38400/60000 (64%)]\tLoss: 0.017004\tAccuracy: 99.74130794701986\n",
      "Train: [51200/60000 (85%)]\tLoss: 0.015386\tAccuracy: 99.72792288557214\n",
      "Epoch: 11/20. Train set: Average loss: 0.0151\tAccuracy: 99.72\n",
      "Epoch: 11/20. Validation set: Average loss: 0.0872\tAccuracy: 98.97\n",
      "Train: [0/60000 (0%)]\tLoss: 0.007565\tAccuracy: 100.0\n",
      "Train: [12800/60000 (21%)]\tLoss: 0.012319\tAccuracy: 99.80085784313725\n",
      "Train: [25600/60000 (43%)]\tLoss: 0.013049\tAccuracy: 99.79115099009901\n",
      "Train: [38400/60000 (64%)]\tLoss: 0.012720\tAccuracy: 99.77235099337749\n",
      "Train: [51200/60000 (85%)]\tLoss: 0.012190\tAccuracy: 99.75513059701493\n",
      "Epoch: 12/20. Train set: Average loss: 0.0123\tAccuracy: 99.76666666666667\n",
      "Epoch: 12/20. Validation set: Average loss: 0.0893\tAccuracy: 99.02\n",
      "Train: [0/60000 (0%)]\tLoss: 0.013956\tAccuracy: 99.609375\n",
      "Train: [12800/60000 (21%)]\tLoss: 0.009738\tAccuracy: 99.83149509803921\n",
      "Train: [25600/60000 (43%)]\tLoss: 0.012125\tAccuracy: 99.81822400990099\n",
      "Train: [38400/60000 (64%)]\tLoss: 0.008866\tAccuracy: 99.82667632450331\n",
      "Train: [51200/60000 (85%)]\tLoss: 0.012420\tAccuracy: 99.8173196517413\n",
      "Epoch: 13/20. Train set: Average loss: 0.0103\tAccuracy: 99.82\n",
      "Epoch: 13/20. Validation set: Average loss: 0.0972\tAccuracy: 98.98\n",
      "Train: [0/60000 (0%)]\tLoss: 0.005683\tAccuracy: 100.0\n",
      "Train: [12800/60000 (21%)]\tLoss: 0.007600\tAccuracy: 99.89276960784314\n",
      "Train: [25600/60000 (43%)]\tLoss: 0.008679\tAccuracy: 99.84916460396039\n",
      "Train: [38400/60000 (64%)]\tLoss: 0.008687\tAccuracy: 99.85771937086092\n",
      "Train: [51200/60000 (85%)]\tLoss: 0.009507\tAccuracy: 99.84841417910448\n",
      "Epoch: 14/20. Train set: Average loss: 0.0088\tAccuracy: 99.85\n",
      "Epoch: 14/20. Validation set: Average loss: 0.1053\tAccuracy: 98.94\n",
      "Train: [0/60000 (0%)]\tLoss: 0.004597\tAccuracy: 100.0\n",
      "Train: [12800/60000 (21%)]\tLoss: 0.005437\tAccuracy: 99.90808823529412\n",
      "Train: [25600/60000 (43%)]\tLoss: 0.008937\tAccuracy: 99.88397277227723\n",
      "Train: [38400/60000 (64%)]\tLoss: 0.007377\tAccuracy: 99.88617549668874\n",
      "Train: [51200/60000 (85%)]\tLoss: 0.007877\tAccuracy: 99.87950870646766\n",
      "Epoch: 15/20. Train set: Average loss: 0.0071\tAccuracy: 99.885\n",
      "Epoch: 15/20. Validation set: Average loss: 0.1125\tAccuracy: 98.9\n",
      "Train: [0/60000 (0%)]\tLoss: 0.002674\tAccuracy: 100.0\n",
      "Train: [12800/60000 (21%)]\tLoss: 0.004674\tAccuracy: 99.9234068627451\n",
      "Train: [25600/60000 (43%)]\tLoss: 0.007120\tAccuracy: 99.89944306930693\n",
      "Train: [38400/60000 (64%)]\tLoss: 0.005091\tAccuracy: 99.89911009933775\n",
      "Train: [51200/60000 (85%)]\tLoss: 0.005274\tAccuracy: 99.89505597014926\n",
      "Epoch: 16/20. Train set: Average loss: 0.0056\tAccuracy: 99.89666666666666\n",
      "Epoch: 16/20. Validation set: Average loss: 0.1112\tAccuracy: 98.98\n",
      "Train: [0/60000 (0%)]\tLoss: 0.001798\tAccuracy: 100.0\n",
      "Train: [12800/60000 (21%)]\tLoss: 0.004979\tAccuracy: 99.90808823529412\n",
      "Train: [25600/60000 (43%)]\tLoss: 0.007269\tAccuracy: 99.8955754950495\n",
      "Train: [38400/60000 (64%)]\tLoss: 0.004223\tAccuracy: 99.90687086092716\n",
      "Train: [51200/60000 (85%)]\tLoss: 0.004692\tAccuracy: 99.91060323383084\n",
      "Epoch: 17/20. Train set: Average loss: 0.0052\tAccuracy: 99.91\n",
      "Epoch: 17/20. Validation set: Average loss: 0.1120\tAccuracy: 98.97\n",
      "Train: [0/60000 (0%)]\tLoss: 0.006667\tAccuracy: 99.609375\n",
      "Train: [12800/60000 (21%)]\tLoss: 0.005279\tAccuracy: 99.90042892156863\n",
      "Train: [25600/60000 (43%)]\tLoss: 0.004982\tAccuracy: 99.91104579207921\n"
     ]
    },
    {
     "name": "stdout",
     "output_type": "stream",
     "text": [
      "Train: [38400/60000 (64%)]\tLoss: 0.005069\tAccuracy: 99.91463162251655\n",
      "Train: [51200/60000 (85%)]\tLoss: 0.004222\tAccuracy: 99.92032027363184\n",
      "Epoch: 18/20. Train set: Average loss: 0.0050\tAccuracy: 99.91833333333334\n",
      "Epoch: 18/20. Validation set: Average loss: 0.1133\tAccuracy: 98.97\n",
      "Train: [0/60000 (0%)]\tLoss: 0.002547\tAccuracy: 100.0\n",
      "Train: [12800/60000 (21%)]\tLoss: 0.004605\tAccuracy: 99.9234068627451\n",
      "Train: [25600/60000 (43%)]\tLoss: 0.006127\tAccuracy: 99.91104579207921\n",
      "Train: [38400/60000 (64%)]\tLoss: 0.004661\tAccuracy: 99.91204470198676\n",
      "Train: [51200/60000 (85%)]\tLoss: 0.003622\tAccuracy: 99.92226368159204\n",
      "Epoch: 19/20. Train set: Average loss: 0.0048\tAccuracy: 99.92333333333333\n",
      "Epoch: 19/20. Validation set: Average loss: 0.1144\tAccuracy: 98.99\n",
      "Train: [0/60000 (0%)]\tLoss: 0.001415\tAccuracy: 100.0\n",
      "Train: [12800/60000 (21%)]\tLoss: 0.005616\tAccuracy: 99.90042892156863\n",
      "Train: [25600/60000 (43%)]\tLoss: 0.004405\tAccuracy: 99.92651608910892\n",
      "Train: [38400/60000 (64%)]\tLoss: 0.004589\tAccuracy: 99.91980546357615\n",
      "Train: [51200/60000 (85%)]\tLoss: 0.004510\tAccuracy: 99.92226368159204\n",
      "Epoch: 20/20. Train set: Average loss: 0.0046\tAccuracy: 99.925\n",
      "Epoch: 20/20. Validation set: Average loss: 0.1159\tAccuracy: 98.99\n"
     ]
    }
   ],
   "source": [
    "fit(train_loader, test_loader, model, loss_fn, optimizer, scheduler, n_epochs, cuda, log_interval, metrics=[AccumulatedAccuracyMetric()])"
   ]
  },
  {
   "cell_type": "code",
   "execution_count": 6,
   "metadata": {
    "colab": {
     "autoexec": {
      "startup": false,
      "wait_interval": 0
     },
     "base_uri": "https://localhost:8080/",
     "height": 1167
    },
    "colab_type": "code",
    "id": "q9o-6-ytCuuT",
    "outputId": "bc12c8be-999e-4329-91b1-83fb2395df0c"
   },
   "outputs": [
    {
     "data": {
      "image/png": "[encoded data removed]",
      "text/plain": [
       "<Figure size 720x720 with 1 Axes>"
      ]
     },
     "metadata": {
      "needs_background": "light"
     },
     "output_type": "display_data"
    },
    {
     "data": {
      "image/png": "[encoded data removed]",
      "text/plain": [
       "<Figure size 720x720 with 1 Axes>"
      ]
     },
     "metadata": {
      "needs_background": "light"
     },
     "output_type": "display_data"
    }
   ],
   "source": [
    "train_embeddings_baseline, train_labels_baseline = extract_embeddings(train_loader, model)\n",
    "plot_embeddings(train_embeddings_baseline, train_labels_baseline)\n",
    "val_embeddings_baseline, val_labels_baseline = extract_embeddings(test_loader, model)\n",
    "plot_embeddings(val_embeddings_baseline, val_labels_baseline)"
   ]
  },
  {
   "cell_type": "markdown",
   "metadata": {
    "colab_type": "text",
    "id": "fDdsCIiHCuub"
   },
   "source": [
    "While the embeddings look separable (which is what we trained them for), they don't have good metric properties. They might not be the best choice as a descriptor for new classes."
   ]
  },
  {
   "cell_type": "markdown",
   "metadata": {
    "colab_type": "text",
    "id": "j9FhHE-tCuuc"
   },
   "source": [
    "# Siamese network\n",
    "Now we'll train a siamese network that takes a pair of images and trains the embeddings so that the distance between them is minimized if their from the same class or greater than some margin value if they represent different classes.\n",
    "We'll minimize a contrastive loss function*:\n",
    "$$L_{contrastive}(x_0, x_1, y) = \\frac{1}{2} y \\lVert f(x_0)-f(x_1)\\rVert_2^2 + \\frac{1}{2}(1-y)\\{max(0, m-\\lVert f(x_0)-f(x_1)\\rVert_2)\\}^2$$\n",
    "\n",
    "*Raia Hadsell, Sumit Chopra, Yann LeCun, [Dimensionality reduction by learning an invariant mapping](http://yann.lecun.com/exdb/publis/pdf/hadsell-chopra-lecun-06.pdf), CVPR 2006*"
   ]
  },
  {
   "cell_type": "code",
   "execution_count": 7,
   "metadata": {
    "colab": {
     "autoexec": {
      "startup": false,
      "wait_interval": 0
     }
    },
    "colab_type": "code",
    "id": "-qpIq-TzCuue"
   },
   "outputs": [
    {
     "name": "stderr",
     "output_type": "stream",
     "text": [
      "D:\\AI\\Configuration\\Anaconda3\\envs\\CV-ND\\lib\\site-packages\\torchvision\\datasets\\mnist.py:43: UserWarning: train_labels has been renamed targets\n",
      "  warnings.warn(\"train_labels has been renamed targets\")\n",
      "D:\\AI\\Configuration\\Anaconda3\\envs\\CV-ND\\lib\\site-packages\\torchvision\\datasets\\mnist.py:53: UserWarning: train_data has been renamed data\n",
      "  warnings.warn(\"train_data has been renamed data\")\n",
      "D:\\AI\\Configuration\\Anaconda3\\envs\\CV-ND\\lib\\site-packages\\torchvision\\datasets\\mnist.py:48: UserWarning: test_labels has been renamed targets\n",
      "  warnings.warn(\"test_labels has been renamed targets\")\n",
      "D:\\AI\\Configuration\\Anaconda3\\envs\\CV-ND\\lib\\site-packages\\torchvision\\datasets\\mnist.py:58: UserWarning: test_data has been renamed data\n",
      "  warnings.warn(\"test_data has been renamed data\")\n"
     ]
    }
   ],
   "source": [
    "# Set up data loaders\n",
    "from datasets import SiameseMNIST\n",
    "\n",
    "siamese_train_dataset = SiameseMNIST(train_dataset) # Returns pairs of images and target same/different\n",
    "siamese_test_dataset = SiameseMNIST(test_dataset)\n",
    "batch_size = 128\n",
    "kwargs = {'num_workers': 1, 'pin_memory': True} if cuda else {}\n",
    "siamese_train_loader = torch.utils.data.DataLoader(siamese_train_dataset, batch_size=batch_size, shuffle=True, **kwargs)\n",
    "siamese_test_loader = torch.utils.data.DataLoader(siamese_test_dataset, batch_size=batch_size, shuffle=False, **kwargs)\n",
    "\n",
    "# Set up the network and training parameters\n",
    "from networks import EmbeddingNet, SiameseNet\n",
    "from losses import ContrastiveLoss\n",
    "\n",
    "margin = 1.\n",
    "embedding_net = EmbeddingNet()\n",
    "model = SiameseNet(embedding_net)\n",
    "if cuda:\n",
    "    model.cuda()\n",
    "loss_fn = ContrastiveLoss(margin)\n",
    "lr = 1e-3\n",
    "optimizer = optim.Adam(model.parameters(), lr=lr)\n",
    "scheduler = lr_scheduler.StepLR(optimizer, 8, gamma=0.1, last_epoch=-1)\n",
    "n_epochs = 20\n",
    "log_interval = 100"
   ]
  },
  {
   "cell_type": "code",
   "execution_count": null,
   "metadata": {
    "colab": {
     "autoexec": {
      "startup": false,
      "wait_interval": 0
     },
     "base_uri": "https://localhost:8080/",
     "height": 2397
    },
    "colab_type": "code",
    "id": "_IqiBATeCuuh",
    "outputId": "c9e31172-3754-4ff2-8b7f-1bc2720d554b"
   },
   "outputs": [
    {
     "name": "stdout",
     "output_type": "stream",
     "text": [
      "Train: [0/60000 (0%)]\tLoss: 0.228683\n",
      "Train: [12800/60000 (21%)]\tLoss: 0.065878\n",
      "Train: [25600/60000 (43%)]\tLoss: 0.039363\n",
      "Train: [38400/60000 (64%)]\tLoss: 0.030309\n",
      "Train: [51200/60000 (85%)]\tLoss: 0.024058\n",
      "Epoch: 1/20. Train set: Average loss: 0.0375\n",
      "Epoch: 1/20. Validation set: Average loss: 0.0194\n",
      "Train: [0/60000 (0%)]\tLoss: 0.029085\n",
      "Train: [12800/60000 (21%)]\tLoss: 0.017285\n",
      "Train: [25600/60000 (43%)]\tLoss: 0.014928\n",
      "Train: [38400/60000 (64%)]\tLoss: 0.013476\n",
      "Train: [51200/60000 (85%)]\tLoss: 0.012437\n",
      "Epoch: 2/20. Train set: Average loss: 0.0143\n",
      "Epoch: 2/20. Validation set: Average loss: 0.0121\n",
      "Train: [0/60000 (0%)]\tLoss: 0.011002\n",
      "Train: [12800/60000 (21%)]\tLoss: 0.009022\n",
      "Train: [25600/60000 (43%)]\tLoss: 0.008750\n",
      "Train: [38400/60000 (64%)]\tLoss: 0.009666\n",
      "Train: [51200/60000 (85%)]\tLoss: 0.007438\n",
      "Epoch: 3/20. Train set: Average loss: 0.0085\n",
      "Epoch: 3/20. Validation set: Average loss: 0.0120\n",
      "Train: [0/60000 (0%)]\tLoss: 0.003452\n",
      "Train: [12800/60000 (21%)]\tLoss: 0.006682\n",
      "Train: [25600/60000 (43%)]\tLoss: 0.006623\n"
     ]
    }
   ],
   "source": [
    "fit(siamese_train_loader, siamese_test_loader, model, loss_fn, optimizer, scheduler, n_epochs, cuda, log_interval)"
   ]
  },
  {
   "cell_type": "code",
   "execution_count": null,
   "metadata": {
    "colab": {
     "autoexec": {
      "startup": false,
      "wait_interval": 0
     },
     "base_uri": "https://localhost:8080/",
     "height": 1167
    },
    "colab_type": "code",
    "id": "rBBBuPjiCuup",
    "outputId": "0849de03-297f-4189-d5ea-fc8c5fda27e1"
   },
   "outputs": [],
   "source": [
    "train_embeddings_cl, train_labels_cl = extract_embeddings(train_loader, model)\n",
    "plot_embeddings(train_embeddings_cl, train_labels_cl)\n",
    "val_embeddings_cl, val_labels_cl = extract_embeddings(test_loader, model)\n",
    "plot_embeddings(val_embeddings_cl, val_labels_cl)"
   ]
  },
  {
   "cell_type": "markdown",
   "metadata": {
    "colab_type": "text",
    "id": "MbKXy6yQCuuu"
   },
   "source": [
    "# Triplet network\n",
    "We'll train a triplet network, that takes an anchor, positive (same class as anchor) and negative (different class than anchor) examples. The objective is to learn embeddings such that the anchor is closer to the positive example than it is to the negative example by some margin value.\n",
    "\n",
    "![alt text](images/anchor_negative_positive.png \"Source: FaceNet\")\n",
    "Source: [2] *Schroff, Florian, Dmitry Kalenichenko, and James Philbin. [Facenet: A unified embedding for face recognition and clustering.](https://arxiv.org/abs/1503.03832) CVPR 2015.*\n",
    "\n",
    "**Triplet loss**:   $L_{triplet}(x_a, x_p, x_n) = max(0, m +  \\lVert f(x_a)-f(x_p)\\rVert_2^2 - \\lVert f(x_a)-f(x_n)\\rVert_2^2$\\)"
   ]
  },
  {
   "cell_type": "code",
   "execution_count": null,
   "metadata": {
    "colab": {
     "autoexec": {
      "startup": false,
      "wait_interval": 0
     }
    },
    "colab_type": "code",
    "id": "jv4DvFucCuuu"
   },
   "outputs": [],
   "source": [
    "# Set up data loaders\n",
    "from datasets import TripletMNIST\n",
    "\n",
    "triplet_train_dataset = TripletMNIST(train_dataset) # Returns triplets of images\n",
    "triplet_test_dataset = TripletMNIST(test_dataset)\n",
    "batch_size = 128\n",
    "kwargs = {'num_workers': 1, 'pin_memory': True} if cuda else {}\n",
    "triplet_train_loader = torch.utils.data.DataLoader(triplet_train_dataset, batch_size=batch_size, shuffle=True, **kwargs)\n",
    "triplet_test_loader = torch.utils.data.DataLoader(triplet_test_dataset, batch_size=batch_size, shuffle=False, **kwargs)\n",
    "\n",
    "# Set up the network and training parameters\n",
    "from networks import EmbeddingNet, TripletNet\n",
    "from losses import TripletLoss\n",
    "\n",
    "margin = 1.\n",
    "embedding_net = EmbeddingNet()\n",
    "model = TripletNet(embedding_net)\n",
    "if cuda:\n",
    "    model.cuda()\n",
    "loss_fn = TripletLoss(margin)\n",
    "lr = 1e-3\n",
    "optimizer = optim.Adam(model.parameters(), lr=lr)\n",
    "scheduler = lr_scheduler.StepLR(optimizer, 8, gamma=0.1, last_epoch=-1)\n",
    "n_epochs = 20\n",
    "log_interval = 100"
   ]
  },
  {
   "cell_type": "code",
   "execution_count": null,
   "metadata": {
    "colab": {
     "autoexec": {
      "startup": false,
      "wait_interval": 0
     },
     "base_uri": "https://localhost:8080/",
     "height": 2397
    },
    "colab_type": "code",
    "id": "Dj9AoYpsCuuz",
    "outputId": "70ff7e3d-4e0b-403c-9af1-41c51a4c808e"
   },
   "outputs": [],
   "source": [
    "fit(triplet_train_loader, triplet_test_loader, model, loss_fn, optimizer, scheduler, n_epochs, cuda, log_interval)"
   ]
  },
  {
   "cell_type": "code",
   "execution_count": null,
   "metadata": {
    "colab": {
     "autoexec": {
      "startup": false,
      "wait_interval": 0
     },
     "base_uri": "https://localhost:8080/",
     "height": 1167
    },
    "colab_type": "code",
    "id": "ysh4Ry7ZCuu_",
    "outputId": "4194cf1d-da83-452a-94d6-2cd4c31aca2a"
   },
   "outputs": [],
   "source": [
    "train_embeddings_tl, train_labels_tl = extract_embeddings(train_loader, model)\n",
    "plot_embeddings(train_embeddings_tl, train_labels_tl)\n",
    "val_embeddings_tl, val_labels_tl = extract_embeddings(test_loader, model)\n",
    "plot_embeddings(val_embeddings_tl, val_labels_tl)"
   ]
  },
  {
   "cell_type": "markdown",
   "metadata": {
    "colab_type": "text",
    "id": "x7C9H1_nCuvJ"
   },
   "source": [
    "# Online pair/triplet selection - negative mining\n",
    "There are couple of problems with siamese and triplet networks.\n",
    "1. The number of possible pairs/triplets grows **quadratically/cubically** with the number of examples. It's infeasible to process them all\n",
    "2. We generate pairs/triplets randomly. As the training continues, more and more pairs/triplets are easy to deal with (their loss value is very small or even 0), preventing the network from training. We need to provide the network with **hard examples**.\n",
    "3. Each image that is fed to the network is used only for computation of contrastive/triplet loss for only one pair/triplet. The computation is somewhat wasted; once the embedding is computed, it could be reused for many pairs/triplets.\n",
    "\n",
    "To deal with that efficiently, we'll feed a network with standard mini-batches as we did for classification. The loss function will be responsible for selection of hard pairs and triplets within mini-batch. In these case, if we feed the network with 16 images per 10 classes, we can process up to $159*160/2 = 12720$ pairs and $10*16*15/2*(9*16) = 172800$ triplets, compared to 80 pairs and 53 triplets in previous implementation.\n",
    "\n",
    "We can find some strategies on how to select triplets in [2] and [3] *Alexander Hermans, Lucas Beyer, Bastian Leibe, [In Defense of the Triplet Loss for Person Re-Identification](https://arxiv.org/pdf/1703.07737), 2017*"
   ]
  },
  {
   "cell_type": "markdown",
   "metadata": {
    "colab_type": "text",
    "id": "k806qej9CuvL"
   },
   "source": [
    "## Online pair selection\n",
    "## Steps\n",
    "1. Create **BalancedBatchSampler** - samples $N$ classes and $M$ samples *datasets.py*\n",
    "2. Create data loaders with the batch sampler\n",
    "3. Define **embedding** *(mapping)* network $f(x)$ - **EmbeddingNet** from *networks.py*\n",
    "4. Define a **PairSelector** that takes embeddings and original labels and returns valid pairs within a minibatch\n",
    "5. Define **OnlineContrastiveLoss** that will use a *PairSelector* and compute *ContrastiveLoss* on such pairs\n",
    "6. Train the network!"
   ]
  },
  {
   "cell_type": "code",
   "execution_count": null,
   "metadata": {
    "colab": {
     "autoexec": {
      "startup": false,
      "wait_interval": 0
     }
    },
    "colab_type": "code",
    "id": "goVi1_-PCuvL"
   },
   "outputs": [],
   "source": [
    "from datasets import BalancedBatchSampler\n",
    "\n",
    "# We'll create mini batches by sampling labels that will be present in the mini batch and number of examples from each class\n",
    "train_batch_sampler = BalancedBatchSampler(train_dataset.train_labels, n_classes=10, n_samples=25)\n",
    "test_batch_sampler = BalancedBatchSampler(test_dataset.test_labels, n_classes=10, n_samples=25)\n",
    "\n",
    "kwargs = {'num_workers': 1, 'pin_memory': True} if cuda else {}\n",
    "online_train_loader = torch.utils.data.DataLoader(train_dataset, batch_sampler=train_batch_sampler, **kwargs)\n",
    "online_test_loader = torch.utils.data.DataLoader(test_dataset, batch_sampler=test_batch_sampler, **kwargs)\n",
    "\n",
    "# Set up the network and training parameters\n",
    "from networks import EmbeddingNet\n",
    "from losses import OnlineContrastiveLoss\n",
    "from utils import AllPositivePairSelector, HardNegativePairSelector # Strategies for selecting pairs within a minibatch\n",
    "\n",
    "margin = 1.\n",
    "embedding_net = EmbeddingNet()\n",
    "model = embedding_net\n",
    "if cuda:\n",
    "    model.cuda()\n",
    "loss_fn = OnlineContrastiveLoss(margin, HardNegativePairSelector())\n",
    "lr = 1e-3\n",
    "optimizer = optim.Adam(model.parameters(), lr=lr)\n",
    "scheduler = lr_scheduler.StepLR(optimizer, 8, gamma=0.1, last_epoch=-1)\n",
    "n_epochs = 20\n",
    "log_interval = 50"
   ]
  },
  {
   "cell_type": "code",
   "execution_count": null,
   "metadata": {
    "colab": {
     "autoexec": {
      "startup": false,
      "wait_interval": 0
     },
     "base_uri": "https://localhost:8080/",
     "height": 2397
    },
    "colab_type": "code",
    "id": "SacMTqN6CuvO",
    "outputId": "d339ea0e-a143-423f-939a-55f0b9a38e6a"
   },
   "outputs": [],
   "source": [
    "fit(online_train_loader, online_test_loader, model, loss_fn, optimizer, scheduler, n_epochs, cuda, log_interval)"
   ]
  },
  {
   "cell_type": "code",
   "execution_count": null,
   "metadata": {
    "colab": {
     "autoexec": {
      "startup": false,
      "wait_interval": 0
     },
     "base_uri": "https://localhost:8080/",
     "height": 1167
    },
    "colab_type": "code",
    "id": "ZCvF0AlCCuvX",
    "outputId": "84044105-6289-4a9f-9ec5-47a7d539651a"
   },
   "outputs": [],
   "source": [
    "train_embeddings_ocl, train_labels_ocl = extract_embeddings(train_loader, model)\n",
    "plot_embeddings(train_embeddings_ocl, train_labels_ocl)\n",
    "val_embeddings_ocl, val_labels_ocl = extract_embeddings(test_loader, model)\n",
    "plot_embeddings(val_embeddings_ocl, val_labels_ocl)"
   ]
  },
  {
   "cell_type": "markdown",
   "metadata": {
    "colab_type": "text",
    "id": "UgIGiMwICuvn"
   },
   "source": [
    "## Online triplet selection\n",
    "## Steps\n",
    "1. Create **BalancedBatchSampler** - samples $N$ classes and $M$ samples *datasets.py*\n",
    "2. Create data loaders with the batch sampler\n",
    "3. Define **embedding** *(mapping)* network $f(x)$ - **EmbeddingNet** from *networks.py*\n",
    "4. Define a **TripletSelector** that takes embeddings and original labels and returns valid triplets within a minibatch\n",
    "5. Define **OnlineTripletLoss** that will use a *TripletSelector* and compute *TripletLoss* on such pairs\n",
    "6. Train the network!"
   ]
  },
  {
   "cell_type": "code",
   "execution_count": null,
   "metadata": {
    "colab": {
     "autoexec": {
      "startup": false,
      "wait_interval": 0
     }
    },
    "colab_type": "code",
    "id": "JzpYzMUuCuvp"
   },
   "outputs": [],
   "source": [
    "from datasets import BalancedBatchSampler\n",
    "\n",
    "# We'll create mini batches by sampling labels that will be present in the mini batch and number of examples from each class\n",
    "train_batch_sampler = BalancedBatchSampler(train_dataset.train_labels, n_classes=10, n_samples=25)\n",
    "test_batch_sampler = BalancedBatchSampler(test_dataset.test_labels, n_classes=10, n_samples=25)\n",
    "\n",
    "kwargs = {'num_workers': 1, 'pin_memory': True} if cuda else {}\n",
    "online_train_loader = torch.utils.data.DataLoader(train_dataset, batch_sampler=train_batch_sampler, **kwargs)\n",
    "online_test_loader = torch.utils.data.DataLoader(test_dataset, batch_sampler=test_batch_sampler, **kwargs)\n",
    "\n",
    "# Set up the network and training parameters\n",
    "from networks import EmbeddingNet\n",
    "from losses import OnlineTripletLoss\n",
    "from utils import AllTripletSelector,HardestNegativeTripletSelector, RandomNegativeTripletSelector, SemihardNegativeTripletSelector # Strategies for selecting triplets within a minibatch\n",
    "from metrics import AverageNonzeroTripletsMetric\n",
    "\n",
    "margin = 1.\n",
    "embedding_net = EmbeddingNet()\n",
    "model = embedding_net\n",
    "if cuda:\n",
    "    model.cuda()\n",
    "loss_fn = OnlineTripletLoss(margin, RandomNegativeTripletSelector(margin))\n",
    "lr = 1e-3\n",
    "optimizer = optim.Adam(model.parameters(), lr=lr, weight_decay=1e-4)\n",
    "scheduler = lr_scheduler.StepLR(optimizer, 8, gamma=0.1, last_epoch=-1)\n",
    "n_epochs = 20\n",
    "log_interval = 50"
   ]
  },
  {
   "cell_type": "code",
   "execution_count": null,
   "metadata": {
    "colab": {
     "autoexec": {
      "startup": false,
      "wait_interval": 0
     },
     "base_uri": "https://localhost:8080/",
     "height": 2397
    },
    "colab_type": "code",
    "id": "W-bDxqVJCuvs",
    "outputId": "0b3f7143-d6e5-4f74-9e70-17405026cc91"
   },
   "outputs": [],
   "source": [
    "fit(online_train_loader, online_test_loader, model, loss_fn, optimizer, scheduler, n_epochs, cuda, log_interval, metrics=[AverageNonzeroTripletsMetric()])"
   ]
  },
  {
   "cell_type": "code",
   "execution_count": null,
   "metadata": {
    "colab": {
     "autoexec": {
      "startup": false,
      "wait_interval": 0
     },
     "base_uri": "https://localhost:8080/",
     "height": 1167
    },
    "colab_type": "code",
    "id": "dNrbA2hCCuvw",
    "outputId": "df17047b-8a35-4370-ebe7-be83e9154003"
   },
   "outputs": [],
   "source": [
    "train_embeddings_otl, train_labels_otl = extract_embeddings(train_loader, model)\n",
    "plot_embeddings(train_embeddings_otl, train_labels_otl)\n",
    "val_embeddings_otl, val_labels_otl = extract_embeddings(test_loader, model)\n",
    "plot_embeddings(val_embeddings_otl, val_labels_otl)"
   ]
  },
  {
   "cell_type": "code",
   "execution_count": null,
   "metadata": {
    "colab": {
     "autoexec": {
      "startup": false,
      "wait_interval": 0
     },
     "base_uri": "https://localhost:8080/",
     "height": 1167
    },
    "colab_type": "code",
    "id": "tNY7NReM0zsq",
    "outputId": "5c4db690-d4db-4182-c5d6-9c8d6fc816e7"
   },
   "outputs": [],
   "source": [
    "# display_emb_online, display_emb, display_label_online, display_label = train_embeddings_otl, train_embeddings_tl, train_labels_otl, train_labels_tl\n",
    "display_emb_online, display_emb, display_label_online, display_label = val_embeddings_otl, val_embeddings_tl, val_labels_otl, val_labels_tl\n",
    "x_lim = (np.min(display_emb_online[:,0]), np.max(display_emb_online[:,0]))\n",
    "y_lim = (np.min(display_emb_online[:,1]), np.max(display_emb_online[:,1]))\n",
    "plot_embeddings(display_emb, display_label, x_lim, y_lim)\n",
    "plot_embeddings(display_emb_online, display_label_online, x_lim, y_lim)"
   ]
  },
  {
   "cell_type": "code",
   "execution_count": null,
   "metadata": {
    "colab": {
     "autoexec": {
      "startup": false,
      "wait_interval": 0
     },
     "base_uri": "https://localhost:8080/",
     "height": 1167
    },
    "colab_type": "code",
    "id": "-vyd_460yt7n",
    "outputId": "68c58b88-059f-4b04-ddee-3d3a59bc1856"
   },
   "outputs": [],
   "source": [
    "x_lim = (np.min(train_embeddings_ocl[:,0]), np.max(train_embeddings_ocl[:,0]))\n",
    "y_lim = (np.min(train_embeddings_ocl[:,1]), np.max(train_embeddings_ocl[:,1]))\n",
    "plot_embeddings(train_embeddings_cl, train_labels_cl, x_lim, y_lim)\n",
    "plot_embeddings(train_embeddings_ocl, train_labels_ocl, x_lim, y_lim)"
   ]
  }
 ],
 "metadata": {
  "accelerator": "GPU",
  "colab": {
   "default_view": {},
   "name": "Experiments_MNIST.ipynb",
   "provenance": [],
   "version": "0.3.2",
   "views": {}
  },
  "kernelspec": {
   "display_name": "Python [conda env:CV-ND]",
   "language": "python",
   "name": "conda-env-CV-ND-py"
  },
  "language_info": {
   "codemirror_mode": {
    "name": "ipython",
    "version": 3
   },
   "file_extension": ".py",
   "mimetype": "text/x-python",
   "name": "python",
   "nbconvert_exporter": "python",
   "pygments_lexer": "ipython3",
   "version": "3.7.3"
  }
 },
 "nbformat": 4,
 "nbformat_minor": 2
}
